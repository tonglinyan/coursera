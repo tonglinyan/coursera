{
 "cells": [
  {
   "cell_type": "markdown",
   "metadata": {},
   "source": [
    "# Capstone Project\n",
    "## Neural translation model\n",
    "### Instructions\n",
    "\n",
    "In this notebook, you will create a neural network that translates from English to German. You will use concepts from throughout this course, including building more flexible model architectures, freezing layers, data processing pipeline and sequence modelling.\n",
    "\n",
    "This project is peer-assessed. Within this notebook you will find instructions in each section for how to complete the project. Pay close attention to the instructions as the peer review will be carried out according to a grading rubric that checks key parts of the project instructions. Feel free to add extra cells into the notebook as required.\n",
    "\n",
    "### How to submit\n",
    "\n",
    "When you have completed the Capstone project notebook, you will submit a pdf of the notebook for peer review. First ensure that the notebook has been fully executed from beginning to end, and all of the cell outputs are visible. This is important, as the grading rubric depends on the reviewer being able to view the outputs of your notebook. Save the notebook as a pdf (File -> Download as -> PDF via LaTeX). You should then submit this pdf for review.\n",
    "\n",
    "### Let's get started!\n",
    "\n",
    "We'll start by running some imports, and loading the dataset. For this project you are free to make further imports throughout the notebook as you wish. "
   ]
  },
  {
   "cell_type": "code",
   "execution_count": 141,
   "metadata": {},
   "outputs": [],
   "source": [
    "import tensorflow as tf\n",
    "import tensorflow_hub as hub\n",
    "import unicodedata\n",
    "import re\n",
    "import numpy as np\n",
    "import matplotlib.pyplot as plt\n",
    "from sklearn.model_selection import train_test_split\n",
    "\n",
    "\n",
    "from tensorflow.keras.models import Model, Sequential\n",
    "from tensorflow.keras.layers import Masking, Layer, BatchNormalization, Dense, Add, LSTM, Input, Embedding\n",
    "from tensorflow.keras.utils import to_categorical\n",
    "from tensorflow.keras.preprocessing.text import Tokenizer\n",
    "from tensorflow.keras.preprocessing.sequence import pad_sequences\n"
   ]
  },
  {
   "cell_type": "markdown",
   "metadata": {},
   "source": [
    "![Flags overview image](data/germany_uk_flags.png)\n",
    "\n",
    "For the capstone project, you will use a language dataset from http://www.manythings.org/anki/ to build a neural translation model. This dataset consists of over 200,000 pairs of sentences in English and German. In order to make the training quicker, we will restrict to our dataset to 20,000 pairs. Feel free to change this if you wish - the size of the dataset used is not part of the grading rubric.\n",
    "\n",
    "Your goal is to develop a neural translation model from English to German, making use of a pre-trained English word embedding module."
   ]
  },
  {
   "cell_type": "code",
   "execution_count": 142,
   "metadata": {},
   "outputs": [],
   "source": [
    "# Run this cell to load the dataset\n",
    "\n",
    "NUM_EXAMPLES = 20000\n",
    "data_examples = []\n",
    "with open('data/deu.txt', 'r', encoding='utf8') as f:\n",
    "    for line in f.readlines():\n",
    "        if len(data_examples) < NUM_EXAMPLES:\n",
    "            data_examples.append(line)\n",
    "        else:\n",
    "            break"
   ]
  },
  {
   "cell_type": "code",
   "execution_count": 143,
   "metadata": {},
   "outputs": [],
   "source": [
    "# These functions preprocess English and German sentences\n",
    "\n",
    "def unicode_to_ascii(s):\n",
    "    return ''.join(c for c in unicodedata.normalize('NFD', s) if unicodedata.category(c) != 'Mn')\n",
    "\n",
    "def preprocess_sentence(sentence):\n",
    "    sentence = sentence.lower().strip()\n",
    "    sentence = re.sub(r\"ü\", 'ue', sentence)\n",
    "    sentence = re.sub(r\"ä\", 'ae', sentence)\n",
    "    sentence = re.sub(r\"ö\", 'oe', sentence)\n",
    "    sentence = re.sub(r'ß', 'ss', sentence)\n",
    "    \n",
    "    sentence = unicode_to_ascii(sentence)\n",
    "    sentence = re.sub(r\"([?.!,])\", r\" \\1 \", sentence)\n",
    "    sentence = re.sub(r\"[^a-z?.!,']+\", \" \", sentence)\n",
    "    sentence = re.sub(r'[\" \"]+', \" \", sentence)\n",
    "    \n",
    "    return sentence.strip()"
   ]
  },
  {
   "cell_type": "markdown",
   "metadata": {},
   "source": [
    "#### The custom translation model\n",
    "The following is a schematic of the custom translation model architecture you will develop in this project.\n",
    "\n",
    "![Model Schematic](data/neural_translation_model.png)\n",
    "\n",
    "Key:\n",
    "![Model key](data/neural_translation_model_key.png)\n",
    "\n",
    "The custom model consists of an encoder RNN and a decoder RNN. The encoder takes words of an English sentence as input, and uses a pre-trained word embedding to embed the words into a 128-dimensional space. To indicate the end of the input sentence, a special end token (in the same 128-dimensional space) is passed in as an input. This token is a TensorFlow Variable that is learned in the training phase (unlike the pre-trained word embedding, which is frozen).\n",
    "\n",
    "The decoder RNN takes the internal state of the encoder network as its initial state. A start token is passed in as the first input, which is embedded using a learned German word embedding. The decoder RNN then makes a prediction for the next German word, which during inference is then passed in as the following input, and this process is repeated until the special `<end>` token is emitted from the decoder."
   ]
  },
  {
   "cell_type": "markdown",
   "metadata": {},
   "source": [
    "## 1. Text preprocessing\n",
    "* Create separate lists of English and German sentences, and preprocess them using the `preprocess_sentence` function provided for you above.\n",
    "* Add a special `\"<start>\"` and `\"<end>\"` token to the beginning and end of every German sentence.\n",
    "* Use the Tokenizer class from the `tf.keras.preprocessing.text` module to tokenize the German sentences, ensuring that no character filters are applied. _Hint: use the Tokenizer's \"filter\" keyword argument._\n",
    "* Print out at least 5 randomly chosen examples of (preprocessed) English and German sentence pairs. For the German sentence, print out the text (with start and end tokens) as well as the tokenized sequence.\n",
    "* Pad the end of the tokenized German sequences with zeros, and batch the complete set of sequences into one numpy array."
   ]
  },
  {
   "cell_type": "code",
   "execution_count": 144,
   "metadata": {
    "scrolled": true
   },
   "outputs": [],
   "source": [
    "english, german = [], []\n",
    "\n",
    "SOS, EOS = '<start>', '<end>'\n",
    "for sentence in data_examples:         \n",
    "    sentences = sentence.split('\\t')\n",
    "    #print(sentences)\n",
    "    #sentences = sent_tokenize(preprocess_sentence(sentence))\n",
    "    english.append(preprocess_sentence(sentences[0]))\n",
    "    german.append(f'{SOS} {preprocess_sentence(sentences[1])} {EOS}')\n",
    "\n",
    "english = np.array(english)\n",
    "german = np.array(german)"
   ]
  },
  {
   "cell_type": "code",
   "execution_count": 145,
   "metadata": {},
   "outputs": [],
   "source": [
    "def create_german_tokenizer(list_of_strings):\n",
    "    \n",
    "    tokenizer = Tokenizer(num_words=None, \n",
    "                          filters=\" \",\n",
    "                          char_level=False)\n",
    "    \n",
    "    tokenizer.fit_on_texts(list_of_strings)\n",
    "    \n",
    "    return tokenizer"
   ]
  },
  {
   "cell_type": "code",
   "execution_count": 146,
   "metadata": {},
   "outputs": [],
   "source": [
    "german_tokenizer = create_german_tokenizer(german)\n",
    "tokenized_german = german_tokenizer.texts_to_sequences(german)\n",
    "vocab_size = len(german_tokenizer.word_index) # np.max(np.max(tokenized_german, axis=0))"
   ]
  },
  {
   "cell_type": "code",
   "execution_count": 147,
   "metadata": {},
   "outputs": [],
   "source": [
    "def pad_german_sequence(sequence_chunks):\n",
    "    \n",
    "    padded_sequences = pad_sequences(sequence_chunks, padding='post', value=0)\n",
    "    \n",
    "    return np.array(padded_sequences)"
   ]
  },
  {
   "cell_type": "code",
   "execution_count": 148,
   "metadata": {},
   "outputs": [],
   "source": [
    "padded_german_sequences = pad_german_sequence(tokenized_german)"
   ]
  },
  {
   "cell_type": "code",
   "execution_count": 149,
   "metadata": {},
   "outputs": [
    {
     "name": "stdout",
     "output_type": "stream",
     "text": [
      "English sentence:\t\tdon't deceive tom .\n",
      "German sentence:\t\t<start> taeusche tom nicht . <end>\n",
      "German sentence sequence:\t[1, 3000, 5, 12, 3, 2]\n",
      "\n",
      "English sentence:\t\ti'm not satisfied .\n",
      "German sentence:\t\t<start> ich bin nicht zufrieden . <end>\n",
      "German sentence sequence:\t[1, 4, 15, 12, 508, 3, 2]\n",
      "\n",
      "English sentence:\t\tdon't stand up .\n",
      "German sentence:\t\t<start> stehen sie nicht auf . <end>\n",
      "German sentence sequence:\t[1, 407, 8, 12, 29, 3, 2]\n",
      "\n",
      "English sentence:\t\ti'm a bit hungry .\n",
      "German sentence:\t\t<start> ich bin leicht hungrig . <end>\n",
      "German sentence sequence:\t[1, 4, 15, 479, 327, 3, 2]\n",
      "\n",
      "English sentence:\t\ti may know tom .\n",
      "German sentence:\t\t<start> ich koennte tom kennen . <end>\n",
      "German sentence sequence:\t[1, 4, 210, 5, 367, 3, 2]\n",
      "\n"
     ]
    }
   ],
   "source": [
    "random_indices = np.random.choice(len(english), size=5, replace=False)\n",
    "\n",
    "for idx in random_indices:\n",
    "    print(f\"English sentence:\\t\\t{english[idx]}\")\n",
    "    print(f\"German sentence:\\t\\t{german[idx]}\")\n",
    "    print(f\"German sentence sequence:\\t{tokenized_german[idx]}\\n\")\n"
   ]
  },
  {
   "cell_type": "markdown",
   "metadata": {},
   "source": [
    "## 2. Prepare the data with tf.data.Dataset objects"
   ]
  },
  {
   "cell_type": "markdown",
   "metadata": {},
   "source": [
    "#### Load the embedding layer\n",
    "As part of the dataset preproceessing for this project, you will use a pre-trained English word embedding module from TensorFlow Hub. The URL for the module is https://tfhub.dev/google/tf2-preview/nnlm-en-dim128-with-normalization/1. This module has also been made available as a complete saved model in the folder `'./models/tf2-preview_nnlm-en-dim128_1'`. \n",
    "\n",
    "This embedding takes a batch of text tokens in a 1-D tensor of strings as input. It then embeds the separate tokens into a 128-dimensional space. \n",
    "\n",
    "The code to load and test the embedding layer is provided for you below.\n",
    "\n",
    "**NB:** this model can also be used as a sentence embedding module. The module will process each token by removing punctuation and splitting on spaces. It then averages the word embeddings over a sentence to give a single embedding vector. However, we will use it only as a word embedding module, and will pass each word in the input sentence as a separate token."
   ]
  },
  {
   "cell_type": "code",
   "execution_count": 150,
   "metadata": {},
   "outputs": [],
   "source": [
    "# Load embedding module from Tensorflow Hub\n",
    "\n",
    "#embedding_layer = hub.KerasLayer(\"https://tfhub.dev/google/tf2-preview/nnlm-en-dim128/1\", \n",
    "#                                 output_shape=[128], input_shape=[], dtype=tf.string)\n",
    "embedding_layer = hub.load('models/tf2-preview_nnlm-en-dim128_1')"
   ]
  },
  {
   "cell_type": "code",
   "execution_count": 151,
   "metadata": {},
   "outputs": [
    {
     "data": {
      "text/plain": [
       "TensorShape([7, 128])"
      ]
     },
     "execution_count": 151,
     "metadata": {},
     "output_type": "execute_result"
    }
   ],
   "source": [
    "# Test the layer\n",
    "\n",
    "embedding_layer(tf.constant([\"these\", \"aren't\", \"the\", \"droids\", \"you're\", \"looking\", \"for\"])).shape"
   ]
  },
  {
   "cell_type": "markdown",
   "metadata": {},
   "source": [
    "You should now prepare the training and validation Datasets.\n",
    "\n",
    "* Create a random training and validation set split of the data, reserving e.g. 20% of the data for validation (NB: each English dataset example is a single sentence string, and each German dataset example is a sequence of padded integer tokens).\n",
    "* Load the training and validation sets into a tf.data.Dataset object, passing in a tuple of English and German data for both training and validation sets.\n",
    "* Create a function to map over the datasets that splits each English sentence at spaces. Apply this function to both Dataset objects using the map method. _Hint: look at the tf.strings.split function._\n",
    "* Create a function to map over the datasets that embeds each sequence of English words using the loaded embedding layer/model. Apply this function to both Dataset objects using the map method.\n",
    "* Create a function to filter out dataset examples where the English sentence is more than 13 (embedded) tokens in length. Apply this function to both Dataset objects using the filter method.\n",
    "* Create a function to map over the datasets that pads each English sequence of embeddings with some distinct padding value before the sequence, so that each sequence is length 13. Apply this function to both Dataset objects using the map method. _Hint: look at the tf.pad function. You can extract a Tensor shape using tf.shape; you might also find the tf.math.maximum function useful._\n",
    "* Batch both training and validation Datasets with a batch size of 16.\n",
    "* Print the `element_spec` property for the training and validation Datasets. \n",
    "* Using the Dataset `.take(1)` method, print the shape of the English data example from the training Dataset.\n",
    "* Using the Dataset `.take(1)` method, print the German data example Tensor from the validation Dataset."
   ]
  },
  {
   "cell_type": "code",
   "execution_count": 152,
   "metadata": {},
   "outputs": [
    {
     "name": "stdout",
     "output_type": "stream",
     "text": [
      "(16000,)\n",
      "(16000, 14)\n"
     ]
    }
   ],
   "source": [
    "x_train, x_valid, y_train, y_valid = train_test_split(english, padded_german_sequences, test_size=0.2)\n",
    "print(x_train.shape)\n",
    "print(y_train.shape)"
   ]
  },
  {
   "cell_type": "code",
   "execution_count": 153,
   "metadata": {},
   "outputs": [],
   "source": [
    "train_dataset = tf.data.Dataset.from_tensor_slices((x_train, y_train))\n",
    "valid_dataset = tf.data.Dataset.from_tensor_slices((x_valid, y_valid))"
   ]
  },
  {
   "cell_type": "code",
   "execution_count": 154,
   "metadata": {},
   "outputs": [
    {
     "data": {
      "text/plain": [
       "(TensorSpec(shape=(), dtype=tf.string, name=None),\n",
       " TensorSpec(shape=(14,), dtype=tf.int32, name=None))"
      ]
     },
     "execution_count": 154,
     "metadata": {},
     "output_type": "execute_result"
    }
   ],
   "source": [
    "train_dataset.element_spec"
   ]
  },
  {
   "cell_type": "code",
   "execution_count": 155,
   "metadata": {},
   "outputs": [],
   "source": [
    "def map_dataset(dataset):\n",
    "    \n",
    "    def embed_english(image, label):        \n",
    "        return embedding_layer(tf.strings.split(image,' ')), label\n",
    "    \n",
    "    def filter_length(image, label):\n",
    "        return tf.math.less(tf.cast(tf.shape(image)[0], dtype=tf.int32), 13)\n",
    "    \n",
    "    def padding_english(image, label):\n",
    "        padded = tf.pad(image, [[13-tf.shape(image)[0], 0], [0,0]], 'constant')\n",
    "        return padded, label\n",
    "\n",
    "    dataset = dataset.map(embed_english)\n",
    "    dataset = dataset.filter(filter_length)\n",
    "    dataset = dataset.map(padding_english)\n",
    "    dataset = dataset.batch(16, drop_remainder=True)\n",
    " \n",
    "    return dataset"
   ]
  },
  {
   "cell_type": "code",
   "execution_count": 156,
   "metadata": {},
   "outputs": [
    {
     "name": "stdout",
     "output_type": "stream",
     "text": [
      "(TensorSpec(shape=(16, None, 128), dtype=tf.float32, name=None), TensorSpec(shape=(16, 14), dtype=tf.int32, name=None))\n",
      "(TensorSpec(shape=(16, None, 128), dtype=tf.float32, name=None), TensorSpec(shape=(16, 14), dtype=tf.int32, name=None))\n"
     ]
    }
   ],
   "source": [
    "train_dataset_mapped = map_dataset(train_dataset)\n",
    "valid_dataset_mapped = map_dataset(valid_dataset)\n",
    "\n",
    "print(train_dataset_mapped.element_spec)\n",
    "print(valid_dataset_mapped.element_spec)"
   ]
  },
  {
   "cell_type": "code",
   "execution_count": 157,
   "metadata": {},
   "outputs": [],
   "source": [
    "en, de = next(iter(train_dataset_mapped.take(1)))"
   ]
  },
  {
   "cell_type": "code",
   "execution_count": 158,
   "metadata": {},
   "outputs": [
    {
     "name": "stdout",
     "output_type": "stream",
     "text": [
      "Shape of the English data example from the training Dataset: (16, 13, 128)\n",
      "German data example Tensor from the validation Dataset: (16, 14)\n"
     ]
    }
   ],
   "source": [
    "#en, de = next(iter_train_dataset)\n",
    "print(f\"Shape of the English data example from the training Dataset: {en.shape}\")\n",
    "print(f\"German data example Tensor from the validation Dataset: {de.shape}\")"
   ]
  },
  {
   "cell_type": "markdown",
   "metadata": {},
   "source": [
    "## 3. Create the custom layer\n",
    "You will now create a custom layer to add the learned end token embedding to the encoder model:\n",
    "\n",
    "![Encoder schematic](data/neural_translation_model_encoder.png)"
   ]
  },
  {
   "cell_type": "markdown",
   "metadata": {},
   "source": [
    "You should now build the custom layer.\n",
    "* Using layer subclassing, create a custom layer that takes a batch of English data examples from one of the Datasets, and adds a learned embedded ‘end’ token to the end of each sequence. \n",
    "* This layer should create a TensorFlow Variable (that will be learned during training) that is 128-dimensional (the size of the embedding space). _Hint: you may find it helpful in the call method to use the tf.tile function to replicate the end token embedding across every element in the batch._\n",
    "* Using the Dataset `.take(1)` method, extract a batch of English data examples from the training Dataset and print the shape. Test the custom layer by calling the layer on the English data batch Tensor and print the resulting Tensor shape (the layer should increase the sequence length by one)."
   ]
  },
  {
   "cell_type": "code",
   "execution_count": 159,
   "metadata": {},
   "outputs": [],
   "source": [
    "class CustomLayer(Layer):\n",
    "    \n",
    "    def __init__(self, **kwargs):\n",
    "        super(CustomLayer, self).__init__(**kwargs)\n",
    "        \n",
    "        self.embedding = tf.Variable(initial_value=tf.random.uniform(shape=(128,)), trainable=True)\n",
    "\n",
    "    def call(self, inputs):\n",
    "        output = tf.tile(tf.reshape(self.embedding, shape=(1, 1, tf.shape(self.embedding)[0])),\n",
    "                         [tf.shape(inputs)[0], 1, 1])                            \n",
    "        return output"
   ]
  },
  {
   "cell_type": "code",
   "execution_count": 160,
   "metadata": {},
   "outputs": [
    {
     "name": "stdout",
     "output_type": "stream",
     "text": [
      "English data examples from the training Dataset: (16, 13, 128)\n",
      "Resulting layer tensor shape: (16, 1, 128)\n"
     ]
    }
   ],
   "source": [
    "en, de = next(iter(train_dataset_mapped.take(1)))\n",
    "\n",
    "custom_layer = CustomLayer()\n",
    "test_result = custom_layer(en)\n",
    "\n",
    "print(f'English data examples from the training Dataset: {en.shape}')\n",
    "print(f'Resulting layer tensor shape: {test_result.shape}')"
   ]
  },
  {
   "cell_type": "markdown",
   "metadata": {},
   "source": [
    "## 4. Build the encoder network\n",
    "The encoder network follows the schematic diagram above. You should now build the RNN encoder model.\n",
    "* Using the functional API, build the encoder network according to the following spec:\n",
    "    * The model will take a batch of sequences of embedded English words as input, as given by the Dataset objects.\n",
    "    * The next layer in the encoder will be the custom layer you created previously, to add a learned end token embedding to the end of the English sequence.\n",
    "    * This is followed by a Masking layer, with the `mask_value` set to the distinct padding value you used when you padded the English sequences with the Dataset preprocessing above.\n",
    "    * The final layer is an LSTM layer with 512 units, which also returns the hidden and cell states.\n",
    "    * The encoder is a multi-output model. There should be two output Tensors of this model: the hidden state and cell states of the LSTM layer. The output of the LSTM layer is unused.\n",
    "* Using the Dataset `.take(1)` method, extract a batch of English data examples from the training Dataset and test the encoder model by calling it on the English data Tensor, and print the shape of the resulting Tensor outputs.\n",
    "* Print the model summary for the encoder network."
   ]
  },
  {
   "cell_type": "code",
   "execution_count": 161,
   "metadata": {},
   "outputs": [],
   "source": [
    "def EncoderModel(input_shape):\n",
    "    \n",
    "    inputs = Input(shape=input_shape)\n",
    "    h = CustomLayer()(inputs)\n",
    "    h = Masking(mask_value=0)(h)\n",
    "    output, hidden_states, cell_states = LSTM(512, return_state=True)(h)\n",
    "    \n",
    "    encoder = Model(inputs=inputs, outputs=[hidden_states, cell_states])\n",
    "    \n",
    "    return encoder"
   ]
  },
  {
   "cell_type": "code",
   "execution_count": 162,
   "metadata": {},
   "outputs": [
    {
     "name": "stdout",
     "output_type": "stream",
     "text": [
      "Model: \"model_28\"\n",
      "_________________________________________________________________\n",
      "Layer (type)                 Output Shape              Param #   \n",
      "=================================================================\n",
      "input_29 (InputLayer)        [(None, 13, 128)]         0         \n",
      "_________________________________________________________________\n",
      "custom_layer_31 (CustomLayer (None, 1, 128)            128       \n",
      "_________________________________________________________________\n",
      "masking_28 (Masking)         (None, 1, 128)            0         \n",
      "_________________________________________________________________\n",
      "lstm_54 (LSTM)               [(None, 512), (None, 512) 1312768   \n",
      "=================================================================\n",
      "Total params: 1,312,896\n",
      "Trainable params: 1,312,896\n",
      "Non-trainable params: 0\n",
      "_________________________________________________________________\n",
      "None\n",
      "Shape of resulting tensor of hidden states: (16, 512)\n",
      "Shape of resulting tensor of cell states: (16, 512)\n"
     ]
    }
   ],
   "source": [
    "en, de = next(iter(train_dataset_mapped.take(1)))\n",
    "\n",
    "encoder = EncoderModel(en[0].shape)\n",
    "result = encoder(en)\n",
    "\n",
    "print(encoder.summary())\n",
    "\n",
    "print(f'Shape of resulting tensor of hidden states: {result[0].shape}')\n",
    "print(f'Shape of resulting tensor of cell states: {result[1].shape}')"
   ]
  },
  {
   "cell_type": "markdown",
   "metadata": {},
   "source": [
    "## 5. Build the decoder network\n",
    "The decoder network follows the schematic diagram below. \n",
    "\n",
    "![Decoder schematic](data/neural_translation_model_decoder.png)"
   ]
  },
  {
   "cell_type": "markdown",
   "metadata": {},
   "source": [
    "You should now build the RNN decoder model.\n",
    "* Using Model subclassing, build the decoder network according to the following spec:\n",
    "    * The initializer should create the following layers:\n",
    "        * An Embedding layer with vocabulary size set to the number of unique German tokens, embedding dimension 128, and set to mask zero values in the input.\n",
    "        * An LSTM layer with 512 units, that returns its hidden and cell states, and also returns sequences.\n",
    "        * A Dense layer with number of units equal to the number of unique German tokens, and no activation function.\n",
    "    * The call method should include the usual `inputs` argument, as well as the additional keyword arguments `hidden_state` and `cell_state`. The default value for these keyword arguments should be `None`.\n",
    "    * The call method should pass the inputs through the Embedding layer, and then through the LSTM layer. If the `hidden_state` and `cell_state` arguments are provided, these should be used for the initial state of the LSTM layer. _Hint: use the_ `initial_state` _keyword argument when calling the LSTM layer on its input._\n",
    "    * The call method should pass the LSTM output sequence through the Dense layer, and return the resulting Tensor, along with the hidden and cell states of the LSTM layer.\n",
    "* Using the Dataset `.take(1)` method, extract a batch of English and German data examples from the training Dataset. Test the decoder model by first calling the encoder model on the English data Tensor to get the hidden and cell states, and then call the decoder model on the German data Tensor and hidden and cell states, and print the shape of the resulting decoder Tensor outputs.\n",
    "* Print the model summary for the decoder network."
   ]
  },
  {
   "cell_type": "code",
   "execution_count": 163,
   "metadata": {},
   "outputs": [],
   "source": [
    "class DecoderModel(Model):\n",
    "    \n",
    "    def __init__(self, token_size):\n",
    "        super(DecoderModel, self).__init__()\n",
    "        #self.token_size = token_size\n",
    "        self.embedding = Embedding(token_size, 128, mask_zero=0)\n",
    "        self.lstm = LSTM(512, return_state=True, return_sequences=True)\n",
    "        self.dense = Dense(token_size)\n",
    "        \n",
    "    def call(self, inputs, hidden_state=None, cell_state=None):\n",
    "        h = self.embedding(inputs)\n",
    "        if (hidden_state is None) and (cell_state is None):\n",
    "            h = self.lstm(h)\n",
    "        else: \n",
    "            h, hidden_state, cell_state = self.lstm(h, initial_state=(hidden_state, cell_state))\n",
    "        h = self.dense(h)\n",
    "        \n",
    "        return h, hidden_state, cell_state"
   ]
  },
  {
   "cell_type": "code",
   "execution_count": 164,
   "metadata": {},
   "outputs": [
    {
     "name": "stdout",
     "output_type": "stream",
     "text": [
      "Model: \"decoder_model_26\"\n",
      "_________________________________________________________________\n",
      "Layer (type)                 Output Shape              Param #   \n",
      "=================================================================\n",
      "embedding_26 (Embedding)     multiple                  735104    \n",
      "_________________________________________________________________\n",
      "lstm_56 (LSTM)               multiple                  1312768   \n",
      "_________________________________________________________________\n",
      "dense_26 (Dense)             multiple                  2946159   \n",
      "=================================================================\n",
      "Total params: 4,994,031\n",
      "Trainable params: 4,994,031\n",
      "Non-trainable params: 0\n",
      "_________________________________________________________________\n",
      "None\n",
      "Shape of outputs: (16, 14, 5743)\n",
      "Shape of resulting tensor of hidden states: (16, 512)\n",
      "Shape of resulting tensor of cell states: (16, 512)\n"
     ]
    }
   ],
   "source": [
    "en, de = next(iter(train_dataset_mapped.take(1)))\n",
    "\n",
    "encoder = EncoderModel(en[0].shape)\n",
    "hidden_states, cell_states = encoder(en)\n",
    " \n",
    "decoder = DecoderModel(vocab_size)\n",
    "result = decoder(de, hidden_states, cell_states)\n",
    "\n",
    "print(decoder.summary())\n",
    "\n",
    "print(f'Shape of outputs: {result[0].shape}')\n",
    "print(f'Shape of resulting tensor of hidden states: {result[1].shape}')\n",
    "print(f'Shape of resulting tensor of cell states: {result[2].shape}')"
   ]
  },
  {
   "cell_type": "code",
   "execution_count": null,
   "metadata": {},
   "outputs": [],
   "source": []
  },
  {
   "cell_type": "markdown",
   "metadata": {},
   "source": [
    "## 6. Make a custom training loop\n",
    "You should now write a custom training loop to train your custom neural translation model.\n",
    "* Define a function that takes a Tensor batch of German data (as extracted from the training Dataset), and returns a tuple containing German inputs and outputs for the decoder model (refer to schematic diagram above).\n",
    "* Define a function that computes the forward and backward pass for your translation model. This function should take an English input, German input and German output as arguments, and should do the following:\n",
    "    * Pass the English input into the encoder, to get the hidden and cell states of the encoder LSTM.\n",
    "    * These hidden and cell states are then passed into the decoder, along with the German inputs, which returns a sequence of outputs (the hidden and cell state outputs of the decoder LSTM are unused in this function).\n",
    "    * The loss should then be computed between the decoder outputs and the German output function argument.\n",
    "    * The function returns the loss and gradients with respect to the encoder and decoder’s trainable variables.\n",
    "    * Decorate the function with @tf.function\n",
    "* Define and run a custom training loop for a number of epochs (for you to choose) that does the following:\n",
    "    * Iterates through the training dataset, and creates decoder inputs and outputs from the German sequences.\n",
    "    * Updates the parameters of the translation model using the gradients of the function above and an optimizer object.\n",
    "    * Every epoch, compute the validation loss on a number of batches from the validation and save the epoch training and validation losses.\n",
    "* Plot the learning curves for loss vs epoch for both training and validation sets.\n",
    "\n",
    "_Hint: This model is computationally demanding to train. The quality of the model or length of training is not a factor in the grading rubric. However, to obtain a better model we recommend using the GPU accelerator hardware on Colab._"
   ]
  },
  {
   "cell_type": "code",
   "execution_count": 165,
   "metadata": {},
   "outputs": [],
   "source": [
    "optimizer = tf.keras.optimizers.Adam(learning_rate=0.001)\n",
    "loss = tf.keras.losses.SparseCategoricalCrossentropy()"
   ]
  },
  {
   "cell_type": "code",
   "execution_count": 166,
   "metadata": {},
   "outputs": [],
   "source": [
    "def decoder_data(batch_data):\n",
    "    return batch_data[:, :-1], batch_data[:, 1:]"
   ]
  },
  {
   "cell_type": "code",
   "execution_count": 175,
   "metadata": {},
   "outputs": [],
   "source": [
    "tf.config.experimental_run_functions_eagerly(True)\n",
    "@tf.function\n",
    "def grad(en, de_inputs, de_outputs):\n",
    "    \n",
    "    encoder = EncoderModel(en[0].shape)\n",
    "    decoder = DecoderModel(vocab_size)\n",
    "    \n",
    "    with tf.GradientTape() as tape:\n",
    "        hidden_states, cell_states = encoder(en)\n",
    "        outputs, hidden_state_de, cell_states_de = decoder(de_inputs, hidden_states, cell_states)\n",
    "        \n",
    "        loss_value = loss(de_outputs, outputs)\n",
    "        \n",
    "    return outputs, loss_value, tape.gradient(loss_value, encoder.trainable_variables + decoder.trainable_variables)\n",
    "    "
   ]
  },
  {
   "cell_type": "code",
   "execution_count": 176,
   "metadata": {},
   "outputs": [],
   "source": [
    "def training_(num_epochs, train_dataset, valid_dataset, optimizer, loss, grad):\n",
    "\n",
    "    train_loss_results = []\n",
    "    valid_loss_results = []\n",
    "    #train_accuracy_results = []\n",
    "    \n",
    "    for epoch in range(num_epochs):\n",
    "    \n",
    "        mean_loss = tf.keras.metrics.Mean()\n",
    "        mean_accuracy = tf.keras.metrics.CategoricalAccuracy()\n",
    "\n",
    "        for en, de in train_dataset:\n",
    "            de_inputs, de_outputs = decoder_data(de)\n",
    "        \n",
    "            outputs, loss_value, grads = grad(en, de_inputs, de_outputs)\n",
    "            optimizer.apply_gradients(zip(grads, encoder.trainable_variables + decoder.trainable_variables))\n",
    "\n",
    "            mean_loss(loss_value)\n",
    "            #mean_accuracy(to_categorical(de_outputs), outputs)\n",
    "\n",
    "        train_loss_results.append(mean_loss.result())\n",
    "        #train_accuracy_results.append(mean_accuracy.result())\n",
    "        \n",
    "        \n",
    "        \n",
    "        valid_mean_loss = tf.keras.metrics.Mean()\n",
    "        \n",
    "        for en, de in valid_dataset:\n",
    "            de_inputs, de_outputs = decoder_data(de)\n",
    "            \n",
    "            hidden_states, cell_states = encoder(en)\n",
    "            outputs, hidden_state_de, cell_states_de = decoder(de_inputs, hidden_states, cell_states)\n",
    "        \n",
    "            loss_value = loss(de_outputs, outputs)\n",
    "            valid_mean_loss(loss_value)\n",
    "        \n",
    "        valid_loss_results.append(valid_mean_loss.result())\n",
    "            \n",
    "        \n",
    "        print(\"Epoch {:03d}: Loss {:.3f}, Valid loss:{:.3%}\".format(epoch, \n",
    "                                                              mean_loss.result(),\n",
    "                                                              valid_mean_loss.result()))\n",
    "        \n",
    "    return train_loss_results, valid_loss_results"
   ]
  },
  {
   "cell_type": "code",
   "execution_count": null,
   "metadata": {},
   "outputs": [],
   "source": [
    "train_loss_results, valid_loss_results = training_(30, \n",
    "                                                   train_dataset_mapped, \n",
    "                                                   valid_dataset_mapped, \n",
    "                                                   optimizer, \n",
    "                                                   loss, \n",
    "                                                   grad)"
   ]
  },
  {
   "cell_type": "code",
   "execution_count": null,
   "metadata": {},
   "outputs": [],
   "source": [
    "fig, axes = plt.subplots(1, 2, sharex=True, figsize=(12, 5))\n",
    "\n",
    "axes[0].set_xlabel(\"Epochs\", fontsize=14)\n",
    "axes[0].set_ylabel(\"Loss\", fontsize=14)\n",
    "axes[0].set_title('Loss vs epochs')\n",
    "axes[0].plot(train_loss_results)\n",
    "\n",
    "axes[1].set_title('Valid loss vs epochs')\n",
    "axes[1].set_ylabel(\"Loss\", fontsize=14)\n",
    "axes[1].set_xlabel(\"Epochs\", fontsize=14)\n",
    "axes[1].plot(valid_loss_results)\n",
    "plt.show()"
   ]
  },
  {
   "cell_type": "code",
   "execution_count": null,
   "metadata": {},
   "outputs": [],
   "source": []
  },
  {
   "cell_type": "markdown",
   "metadata": {},
   "source": [
    "## 7. Use the model to translate\n",
    "Now it's time to put your model into practice! You should run your translation for five randomly sampled English sentences from the dataset. For each sentence, the process is as follows:\n",
    "* Preprocess and embed the English sentence according to the model requirements.\n",
    "* Pass the embedded sentence through the encoder to get the encoder hidden and cell states.\n",
    "* Starting with the special  `\"<start>\"` token, use this token and the final encoder hidden and cell states to get the one-step prediction from the decoder, as well as the decoder’s updated hidden and cell states.\n",
    "* Create a loop to get the next step prediction and updated hidden and cell states from the decoder, using the most recent hidden and cell states. Terminate the loop when the `\"<end>\"` token is emitted, or when the sentence has reached a maximum length.\n",
    "* Decode the output token sequence into German text and print the English text and the model's German translation."
   ]
  },
  {
   "cell_type": "code",
   "execution_count": null,
   "metadata": {},
   "outputs": [],
   "source": [
    "random_indices = np.random.choice(len(english), size=5, replace=False)\n",
    "\n",
    "test_english, test_german = [], []\n",
    "for idx in random_indices:\n",
    "    test_english.append(english[idx])\n",
    "    test_german.append(padded_german_sequences[idx])\n",
    "    \n",
    "\n",
    "test_dataset = tf.data.Dataset.from_tensor_slices((test_english, test_german))\n",
    "test_dataset_mapped = map_dataset(test_dataset)"
   ]
  },
  {
   "cell_type": "code",
   "execution_count": null,
   "metadata": {},
   "outputs": [],
   "source": [
    "for en, de in test_dataset_mapped:\n",
    "    de_inputs = de[:,0]\n",
    "    \n",
    "    hidden_states, cell_states = encoder(en)\n",
    "    outputs, hidden_state_de, cell_states_de = decoder(de_inputs, hidden_states, cell_states)\n",
    "    \n",
    "    "
   ]
  },
  {
   "cell_type": "code",
   "execution_count": null,
   "metadata": {},
   "outputs": [],
   "source": []
  },
  {
   "cell_type": "code",
   "execution_count": null,
   "metadata": {},
   "outputs": [],
   "source": []
  },
  {
   "cell_type": "code",
   "execution_count": null,
   "metadata": {},
   "outputs": [],
   "source": [
    "for idx in random_indices:\n",
    "    print(f\"English sentence:\\t\\t{english[idx]}\")\n",
    "    print(f\"German sentence:\\t\\t{german[idx]}\")\n",
    "    print(f\"German sentence sequence:\\t{tokenized_german[idx]}\\n\")"
   ]
  }
 ],
 "metadata": {
  "kernelspec": {
   "display_name": "Python 3",
   "language": "python",
   "name": "python3"
  },
  "language_info": {
   "codemirror_mode": {
    "name": "ipython",
    "version": 3
   },
   "file_extension": ".py",
   "mimetype": "text/x-python",
   "name": "python",
   "nbconvert_exporter": "python",
   "pygments_lexer": "ipython3",
   "version": "3.7.1"
  }
 },
 "nbformat": 4,
 "nbformat_minor": 2
}
