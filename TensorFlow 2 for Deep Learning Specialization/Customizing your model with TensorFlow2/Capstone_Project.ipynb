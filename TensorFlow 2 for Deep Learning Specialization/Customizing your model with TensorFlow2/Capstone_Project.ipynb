{
  "cells": [
    {
      "cell_type": "markdown",
      "metadata": {
        "id": "LP-uFwhVLGl1"
      },
      "source": [
        "# Capstone Project\n",
        "## Neural translation model\n",
        "### Instructions\n",
        "\n",
        "In this notebook, you will create a neural network that translates from English to German. You will use concepts from throughout this course, including building more flexible model architectures, freezing layers, data processing pipeline and sequence modelling.\n",
        "\n",
        "This project is peer-assessed. Within this notebook you will find instructions in each section for how to complete the project. Pay close attention to the instructions as the peer review will be carried out according to a grading rubric that checks key parts of the project instructions. Feel free to add extra cells into the notebook as required.\n",
        "\n",
        "### How to submit\n",
        "\n",
        "When you have completed the Capstone project notebook, you will submit a pdf of the notebook for peer review. First ensure that the notebook has been fully executed from beginning to end, and all of the cell outputs are visible. This is important, as the grading rubric depends on the reviewer being able to view the outputs of your notebook. Save the notebook as a pdf (File -> Download as -> PDF via LaTeX). You should then submit this pdf for review.\n",
        "\n",
        "### Let's get started!\n",
        "\n",
        "We'll start by running some imports, and loading the dataset. For this project you are free to make further imports throughout the notebook as you wish. "
      ]
    },
    {
      "cell_type": "code",
      "execution_count": null,
      "metadata": {
        "id": "aDhsP4i4LGl5"
      },
      "outputs": [],
      "source": [
        "import tensorflow as tf\n",
        "import tensorflow_hub as hub\n",
        "import unicodedata\n",
        "import re\n",
        "import numpy as np\n",
        "import matplotlib.pyplot as plt\n",
        "from sklearn.model_selection import train_test_split\n",
        "\n",
        "\n",
        "from tensorflow.keras.models import Model, Sequential\n",
        "from tensorflow.keras.layers import Masking, Layer, BatchNormalization, Dense, Add, LSTM, Input, Embedding\n",
        "from tensorflow.keras.utils import to_categorical\n",
        "from tensorflow.keras.preprocessing.text import Tokenizer\n",
        "from tensorflow.keras.preprocessing.sequence import pad_sequences\n"
      ]
    },
    {
      "cell_type": "code",
      "source": [
        "from google.colab import drive\n",
        "drive.mount('/content/gdrive')\n",
        "path = '/content/gdrive/My Drive/Colab Notebooks/'"
      ],
      "metadata": {
        "colab": {
          "base_uri": "https://localhost:8080/"
        },
        "id": "NIDCB7oALme6",
        "outputId": "8dea9169-6b2b-4168-f150-c1a2198cc86d"
      },
      "execution_count": null,
      "outputs": [
        {
          "output_type": "stream",
          "name": "stdout",
          "text": [
            "Drive already mounted at /content/gdrive; to attempt to forcibly remount, call drive.mount(\"/content/gdrive\", force_remount=True).\n"
          ]
        }
      ]
    },
    {
      "cell_type": "markdown",
      "metadata": {
        "id": "F2sGnNZiLGl6"
      },
      "source": [
        "![Flags overview image](data/germany_uk_flags.png)\n",
        "\n",
        "For the capstone project, you will use a language dataset from http://www.manythings.org/anki/ to build a neural translation model. This dataset consists of over 200,000 pairs of sentences in English and German. In order to make the training quicker, we will restrict to our dataset to 20,000 pairs. Feel free to change this if you wish - the size of the dataset used is not part of the grading rubric.\n",
        "\n",
        "Your goal is to develop a neural translation model from English to German, making use of a pre-trained English word embedding module."
      ]
    },
    {
      "cell_type": "code",
      "execution_count": null,
      "metadata": {
        "id": "7Hw_5W6dLGl7"
      },
      "outputs": [],
      "source": [
        "# Run this cell to load the dataset\n",
        "\n",
        "NUM_EXAMPLES = 20000\n",
        "data_examples = []\n",
        "with open(path+'data/deu.txt', 'r', encoding='utf8') as f:\n",
        "    for line in f.readlines():\n",
        "        if len(data_examples) < NUM_EXAMPLES:\n",
        "            data_examples.append(line)\n",
        "        else:\n",
        "            break"
      ]
    },
    {
      "cell_type": "code",
      "execution_count": null,
      "metadata": {
        "id": "8yBi0943LGl7"
      },
      "outputs": [],
      "source": [
        "# These functions preprocess English and German sentences\n",
        "\n",
        "def unicode_to_ascii(s):\n",
        "    return ''.join(c for c in unicodedata.normalize('NFD', s) if unicodedata.category(c) != 'Mn')\n",
        "\n",
        "def preprocess_sentence(sentence):\n",
        "    sentence = sentence.lower().strip()\n",
        "    sentence = re.sub(r\"ü\", 'ue', sentence)\n",
        "    sentence = re.sub(r\"ä\", 'ae', sentence)\n",
        "    sentence = re.sub(r\"ö\", 'oe', sentence)\n",
        "    sentence = re.sub(r'ß', 'ss', sentence)\n",
        "    \n",
        "    sentence = unicode_to_ascii(sentence)\n",
        "    sentence = re.sub(r\"([?.!,])\", r\" \\1 \", sentence)\n",
        "    sentence = re.sub(r\"[^a-z?.!,']+\", \" \", sentence)\n",
        "    sentence = re.sub(r'[\" \"]+', \" \", sentence)\n",
        "    \n",
        "    return sentence.strip()"
      ]
    },
    {
      "cell_type": "markdown",
      "metadata": {
        "id": "8N2IU9Y4LGl8"
      },
      "source": [
        "#### The custom translation model\n",
        "The following is a schematic of the custom translation model architecture you will develop in this project.\n",
        "\n",
        "![Model Schematic](data/neural_translation_model.png)\n",
        "\n",
        "Key:\n",
        "![Model key](data/neural_translation_model_key.png)\n",
        "\n",
        "The custom model consists of an encoder RNN and a decoder RNN. The encoder takes words of an English sentence as input, and uses a pre-trained word embedding to embed the words into a 128-dimensional space. To indicate the end of the input sentence, a special end token (in the same 128-dimensional space) is passed in as an input. This token is a TensorFlow Variable that is learned in the training phase (unlike the pre-trained word embedding, which is frozen).\n",
        "\n",
        "The decoder RNN takes the internal state of the encoder network as its initial state. A start token is passed in as the first input, which is embedded using a learned German word embedding. The decoder RNN then makes a prediction for the next German word, which during inference is then passed in as the following input, and this process is repeated until the special `<end>` token is emitted from the decoder."
      ]
    },
    {
      "cell_type": "markdown",
      "metadata": {
        "id": "Pf3OPBJULGl8"
      },
      "source": [
        "## 1. Text preprocessing\n",
        "* Create separate lists of English and German sentences, and preprocess them using the `preprocess_sentence` function provided for you above.\n",
        "* Add a special `\"<start>\"` and `\"<end>\"` token to the beginning and end of every German sentence.\n",
        "* Use the Tokenizer class from the `tf.keras.preprocessing.text` module to tokenize the German sentences, ensuring that no character filters are applied. _Hint: use the Tokenizer's \"filter\" keyword argument._\n",
        "* Print out at least 5 randomly chosen examples of (preprocessed) English and German sentence pairs. For the German sentence, print out the text (with start and end tokens) as well as the tokenized sequence.\n",
        "* Pad the end of the tokenized German sequences with zeros, and batch the complete set of sequences into one numpy array."
      ]
    },
    {
      "cell_type": "code",
      "execution_count": null,
      "metadata": {
        "scrolled": true,
        "id": "_3-IyqeELGl9"
      },
      "outputs": [],
      "source": [
        "english, german = [], []\n",
        "\n",
        "SOS, EOS = '<start>', '<end>'\n",
        "for sentence in data_examples:         \n",
        "    sentences = sentence.split('\\t')\n",
        "    #print(sentences)\n",
        "    #sentences = sent_tokenize(preprocess_sentence(sentence))\n",
        "    english.append(preprocess_sentence(sentences[0]))\n",
        "    german.append(f'{SOS} {preprocess_sentence(sentences[1])} {EOS}')\n",
        "\n",
        "english = np.array(english)\n",
        "german = np.array(german)"
      ]
    },
    {
      "cell_type": "code",
      "execution_count": null,
      "metadata": {
        "id": "2oIXdjbhLGl9"
      },
      "outputs": [],
      "source": [
        "def create_german_tokenizer(list_of_strings):\n",
        "    \n",
        "    tokenizer = Tokenizer(num_words=None, \n",
        "                          filters=\" \",\n",
        "                          char_level=False)\n",
        "    \n",
        "    tokenizer.fit_on_texts(list_of_strings)\n",
        "    \n",
        "    return tokenizer"
      ]
    },
    {
      "cell_type": "code",
      "execution_count": null,
      "metadata": {
        "id": "OhcwJT5ZLGl-"
      },
      "outputs": [],
      "source": [
        "german_tokenizer = create_german_tokenizer(german)\n",
        "tokenized_german = german_tokenizer.texts_to_sequences(german)\n",
        "vocab_size = len(german_tokenizer.word_index)+1 # np.max(np.max(tokenized_german, axis=0))"
      ]
    },
    {
      "cell_type": "code",
      "execution_count": null,
      "metadata": {
        "id": "x8umZEQvLGl-"
      },
      "outputs": [],
      "source": [
        "def pad_german_sequence(sequence_chunks):\n",
        "    \n",
        "    padded_sequences = pad_sequences(sequence_chunks, padding='post', value=0)\n",
        "    \n",
        "    return np.array(padded_sequences)"
      ]
    },
    {
      "cell_type": "code",
      "execution_count": null,
      "metadata": {
        "id": "-Aznu5edLGl_"
      },
      "outputs": [],
      "source": [
        "padded_german_sequences = pad_german_sequence(tokenized_german)"
      ]
    },
    {
      "cell_type": "code",
      "execution_count": null,
      "metadata": {
        "colab": {
          "base_uri": "https://localhost:8080/"
        },
        "id": "GQ5WnAdLLGl_",
        "outputId": "87e4205e-1418-43e6-bf1a-ea68e41081c9"
      },
      "outputs": [
        {
          "output_type": "stream",
          "name": "stdout",
          "text": [
            "English sentence:\t\tthis isn't sugar .\n",
            "German sentence:\t\t<start> das ist kein zucker . <end>\n",
            "German sentence sequence:\t[1, 11, 6, 71, 1020, 3, 2]\n",
            "\n",
            "English sentence:\t\ti have heartburn .\n",
            "German sentence:\t\t<start> ich habe sodbrennen . <end>\n",
            "German sentence sequence:\t[1, 4, 18, 4844, 3, 2]\n",
            "\n",
            "English sentence:\t\tmerry christmas !\n",
            "German sentence:\t\t<start> froehliche weihnachten ! <end>\n",
            "German sentence sequence:\t[1, 2445, 1405, 9, 2]\n",
            "\n",
            "English sentence:\t\ti called tom .\n",
            "German sentence:\t\t<start> ich rief tom an . <end>\n",
            "German sentence sequence:\t[1, 4, 414, 5, 36, 3, 2]\n",
            "\n",
            "English sentence:\t\tplease sign here .\n",
            "German sentence:\t\t<start> unterschreiben sie bitte hier . <end>\n",
            "German sentence sequence:\t[1, 806, 8, 67, 33, 3, 2]\n",
            "\n"
          ]
        }
      ],
      "source": [
        "random_indices = np.random.choice(len(english), size=5, replace=False)\n",
        "\n",
        "for idx in random_indices:\n",
        "    print(f\"English sentence:\\t\\t{english[idx]}\")\n",
        "    print(f\"German sentence:\\t\\t{german[idx]}\")\n",
        "    print(f\"German sentence sequence:\\t{tokenized_german[idx]}\\n\")\n"
      ]
    },
    {
      "cell_type": "markdown",
      "metadata": {
        "id": "O7Wn0dyiLGl_"
      },
      "source": [
        "## 2. Prepare the data with tf.data.Dataset objects"
      ]
    },
    {
      "cell_type": "markdown",
      "metadata": {
        "id": "kbU58HtxLGmA"
      },
      "source": [
        "#### Load the embedding layer\n",
        "As part of the dataset preproceessing for this project, you will use a pre-trained English word embedding module from TensorFlow Hub. The URL for the module is https://tfhub.dev/google/tf2-preview/nnlm-en-dim128-with-normalization/1. This module has also been made available as a complete saved model in the folder `'./models/tf2-preview_nnlm-en-dim128_1'`. \n",
        "\n",
        "This embedding takes a batch of text tokens in a 1-D tensor of strings as input. It then embeds the separate tokens into a 128-dimensional space. \n",
        "\n",
        "The code to load and test the embedding layer is provided for you below.\n",
        "\n",
        "**NB:** this model can also be used as a sentence embedding module. The module will process each token by removing punctuation and splitting on spaces. It then averages the word embeddings over a sentence to give a single embedding vector. However, we will use it only as a word embedding module, and will pass each word in the input sentence as a separate token."
      ]
    },
    {
      "cell_type": "code",
      "execution_count": null,
      "metadata": {
        "id": "Od4bCmMqLGmA"
      },
      "outputs": [],
      "source": [
        "# Load embedding module from Tensorflow Hub\n",
        "\n",
        "#embedding_layer = hub.KerasLayer(\"https://tfhub.dev/google/tf2-preview/nnlm-en-dim128/1\", \n",
        "#                                 output_shape=[128], input_shape=[], dtype=tf.string)\n",
        "embedding_layer = hub.load(path+'models/tf2-preview_nnlm-en-dim128_1')"
      ]
    },
    {
      "cell_type": "code",
      "execution_count": null,
      "metadata": {
        "colab": {
          "base_uri": "https://localhost:8080/"
        },
        "id": "RZpNKbykLGmA",
        "outputId": "5803b55c-74c4-4510-c66a-0152cbfa9d88"
      },
      "outputs": [
        {
          "output_type": "execute_result",
          "data": {
            "text/plain": [
              "TensorShape([7, 128])"
            ]
          },
          "metadata": {},
          "execution_count": 12
        }
      ],
      "source": [
        "# Test the layer\n",
        "\n",
        "embedding_layer(tf.constant([\"these\", \"aren't\", \"the\", \"droids\", \"you're\", \"looking\", \"for\"])).shape"
      ]
    },
    {
      "cell_type": "markdown",
      "metadata": {
        "id": "ENXO9ZmHLGmB"
      },
      "source": [
        "You should now prepare the training and validation Datasets.\n",
        "\n",
        "* Create a random training and validation set split of the data, reserving e.g. 20% of the data for validation (NB: each English dataset example is a single sentence string, and each German dataset example is a sequence of padded integer tokens).\n",
        "* Load the training and validation sets into a tf.data.Dataset object, passing in a tuple of English and German data for both training and validation sets.\n",
        "* Create a function to map over the datasets that splits each English sentence at spaces. Apply this function to both Dataset objects using the map method. _Hint: look at the tf.strings.split function._\n",
        "* Create a function to map over the datasets that embeds each sequence of English words using the loaded embedding layer/model. Apply this function to both Dataset objects using the map method.\n",
        "* Create a function to filter out dataset examples where the English sentence is more than 13 (embedded) tokens in length. Apply this function to both Dataset objects using the filter method.\n",
        "* Create a function to map over the datasets that pads each English sequence of embeddings with some distinct padding value before the sequence, so that each sequence is length 13. Apply this function to both Dataset objects using the map method. _Hint: look at the tf.pad function. You can extract a Tensor shape using tf.shape; you might also find the tf.math.maximum function useful._\n",
        "* Batch both training and validation Datasets with a batch size of 16.\n",
        "* Print the `element_spec` property for the training and validation Datasets. \n",
        "* Using the Dataset `.take(1)` method, print the shape of the English data example from the training Dataset.\n",
        "* Using the Dataset `.take(1)` method, print the German data example Tensor from the validation Dataset."
      ]
    },
    {
      "cell_type": "code",
      "execution_count": null,
      "metadata": {
        "colab": {
          "base_uri": "https://localhost:8080/"
        },
        "id": "_S_7K2A4LGmB",
        "outputId": "41ecc137-4975-47c2-a9e2-63d103901b37"
      },
      "outputs": [
        {
          "output_type": "stream",
          "name": "stdout",
          "text": [
            "(16000,)\n",
            "(16000, 14)\n"
          ]
        }
      ],
      "source": [
        "x_train, x_valid, y_train, y_valid = train_test_split(english, padded_german_sequences, test_size=0.2)\n",
        "print(x_train.shape)\n",
        "print(y_train.shape)"
      ]
    },
    {
      "cell_type": "code",
      "execution_count": null,
      "metadata": {
        "id": "TLmoOHLTLGmC"
      },
      "outputs": [],
      "source": [
        "train_dataset = tf.data.Dataset.from_tensor_slices((x_train, y_train))\n",
        "valid_dataset = tf.data.Dataset.from_tensor_slices((x_valid, y_valid))"
      ]
    },
    {
      "cell_type": "code",
      "execution_count": null,
      "metadata": {
        "colab": {
          "base_uri": "https://localhost:8080/"
        },
        "id": "Tf9JghLILGmC",
        "outputId": "80032966-80c2-4206-bd06-c2f5a784ec18"
      },
      "outputs": [
        {
          "output_type": "execute_result",
          "data": {
            "text/plain": [
              "(TensorSpec(shape=(), dtype=tf.string, name=None),\n",
              " TensorSpec(shape=(14,), dtype=tf.int32, name=None))"
            ]
          },
          "metadata": {},
          "execution_count": 15
        }
      ],
      "source": [
        "train_dataset.element_spec"
      ]
    },
    {
      "cell_type": "code",
      "execution_count": null,
      "metadata": {
        "id": "v3g9zTF9LGmC"
      },
      "outputs": [],
      "source": [
        "def map_dataset(dataset, batch_size):\n",
        "    \n",
        "    def embed_english(image, label):        \n",
        "        return embedding_layer(tf.strings.split(image,' ')), label\n",
        "    \n",
        "    def filter_length(image, label):\n",
        "        return tf.math.less(tf.cast(tf.shape(image)[0], dtype=tf.int32), 13)\n",
        "    \n",
        "    def padding_english(image, label):\n",
        "        padded = tf.pad(image, [[13-tf.shape(image)[0], 0], [0,0]], 'constant')\n",
        "        return padded, label\n",
        "\n",
        "    dataset = dataset.map(embed_english)\n",
        "    dataset = dataset.filter(filter_length)\n",
        "    dataset = dataset.map(padding_english)\n",
        "    dataset = dataset.batch(batch_size, drop_remainder=True)\n",
        " \n",
        "    return dataset"
      ]
    },
    {
      "cell_type": "code",
      "execution_count": null,
      "metadata": {
        "id": "Ky-XNjLgLGmC"
      },
      "outputs": [],
      "source": [
        "train_dataset_mapped = map_dataset(train_dataset, 16)\n",
        "valid_dataset_mapped = map_dataset(valid_dataset, 16)"
      ]
    },
    {
      "cell_type": "code",
      "execution_count": null,
      "metadata": {
        "id": "ntdSfQruLGmD"
      },
      "outputs": [],
      "source": [
        "en, de = next(iter(train_dataset_mapped.take(1)))"
      ]
    },
    {
      "cell_type": "code",
      "execution_count": null,
      "metadata": {
        "colab": {
          "base_uri": "https://localhost:8080/"
        },
        "id": "xYzvaLW3LGmD",
        "outputId": "92621e3b-5b19-46f9-d653-8d13233d8005"
      },
      "outputs": [
        {
          "output_type": "stream",
          "name": "stdout",
          "text": [
            "(TensorSpec(shape=(16, None, 128), dtype=tf.float32, name=None), TensorSpec(shape=(16, 14), dtype=tf.int32, name=None))\n",
            "(TensorSpec(shape=(16, None, 128), dtype=tf.float32, name=None), TensorSpec(shape=(16, 14), dtype=tf.int32, name=None))\n",
            "Shape of the English data example from the training Dataset: (16, 13, 128)\n",
            "German data example tensor from the validation Dataset: \n",
            "tf.Tensor(\n",
            "[[   1  554   14    7    2    0    0    0    0    0    0    0    0    0]\n",
            " [   1   27  601   45    3    2    0    0    0    0    0    0    0    0]\n",
            " [   1  594   25   83   23   17    7    2    0    0    0    0    0    0]\n",
            " [   1  140   27   11 2249    7    2    0    0    0    0    0    0    0]\n",
            " [   1   11   84    4   12    3    2    0    0    0    0    0    0    0]\n",
            " [   1    4   15   12  321    3    2    0    0    0    0    0    0    0]\n",
            " [   1    5 2422    3    2    0    0    0    0    0    0    0    0    0]\n",
            " [   1   83  120   14  212    7    2    0    0    0    0    0    0    0]\n",
            " [   1   16    5   10  116    7    2    0    0    0    0    0    0    0]\n",
            " [   1  252    8  126    3    2    0    0    0    0    0    0    0    0]\n",
            " [   1    5   68 5317    3    2    0    0    0    0    0    0    0    0]\n",
            " [   1    5  105  341  956    3    2    0    0    0    0    0    0    0]\n",
            " [   1    5    6   12  489    3    2    0    0    0    0    0    0    0]\n",
            " [   1    5    6 4510    3    2    0    0    0    0    0    0    0    0]\n",
            " [   1    4  180  513    3    2    0    0    0    0    0    0    0    0]\n",
            " [   1    5   16   22  491    3    2    0    0    0    0    0    0    0]], shape=(16, 14), dtype=int32)\n"
          ]
        }
      ],
      "source": [
        "print(train_dataset_mapped.element_spec)\n",
        "print(valid_dataset_mapped.element_spec)\n",
        "print(f\"Shape of the English data example from the training Dataset: {en.shape}\")\n",
        "print(f\"German data example tensor from the validation Dataset: \")\n",
        "print(de)"
      ]
    },
    {
      "cell_type": "markdown",
      "metadata": {
        "id": "6LrRRpymLGmD"
      },
      "source": [
        "## 3. Create the custom layer\n",
        "You will now create a custom layer to add the learned end token embedding to the encoder model:\n",
        "\n",
        "![Encoder schematic](data/neural_translation_model_encoder.png)"
      ]
    },
    {
      "cell_type": "markdown",
      "metadata": {
        "id": "IiEQwwacLGmD"
      },
      "source": [
        "You should now build the custom layer.\n",
        "* Using layer subclassing, create a custom layer that takes a batch of English data examples from one of the Datasets, and adds a learned embedded ‘end’ token to the end of each sequence. \n",
        "* This layer should create a TensorFlow Variable (that will be learned during training) that is 128-dimensional (the size of the embedding space). _Hint: you may find it helpful in the call method to use the tf.tile function to replicate the end token embedding across every element in the batch._\n",
        "* Using the Dataset `.take(1)` method, extract a batch of English data examples from the training Dataset and print the shape. Test the custom layer by calling the layer on the English data batch Tensor and print the resulting Tensor shape (the layer should increase the sequence length by one)."
      ]
    },
    {
      "cell_type": "code",
      "execution_count": null,
      "metadata": {
        "id": "RMheKRTOLGmE"
      },
      "outputs": [],
      "source": [
        "class CustomLayer(Layer):\n",
        "    \n",
        "    def __init__(self, **kwargs):\n",
        "        super(CustomLayer, self).__init__(**kwargs)\n",
        "        \n",
        "        self.embedding = tf.Variable(initial_value=tf.random.uniform(shape=(128,)), trainable=True)\n",
        "\n",
        "    def call(self, inputs):\n",
        "        output = tf.tile(tf.reshape(self.embedding, shape=(1, 1, tf.shape(self.embedding)[0])),\n",
        "                         [tf.shape(inputs)[0], 1, 1])                            \n",
        "        return tf.concat([inputs, output], axis=1)"
      ]
    },
    {
      "cell_type": "code",
      "execution_count": null,
      "metadata": {
        "colab": {
          "base_uri": "https://localhost:8080/"
        },
        "id": "voW9y7SuLGmE",
        "outputId": "256e6b46-0d92-418c-bab1-f91b51af7953"
      },
      "outputs": [
        {
          "output_type": "stream",
          "name": "stdout",
          "text": [
            "English data examples from the training Dataset: (16, 13, 128)\n",
            "Resulting layer tensor shape: (16, 14, 128)\n"
          ]
        }
      ],
      "source": [
        "en, de = next(iter(train_dataset_mapped.take(1)))\n",
        "\n",
        "custom_layer = CustomLayer()\n",
        "test_result = custom_layer(en)\n",
        "\n",
        "print(f'English data examples from the training Dataset: {en.shape}')\n",
        "print(f'Resulting layer tensor shape: {test_result.shape}')"
      ]
    },
    {
      "cell_type": "markdown",
      "metadata": {
        "id": "Ho33XPxdLGmE"
      },
      "source": [
        "## 4. Build the encoder network\n",
        "The encoder network follows the schematic diagram above. You should now build the RNN encoder model.\n",
        "* Using the functional API, build the encoder network according to the following spec:\n",
        "    * The model will take a batch of sequences of embedded English words as input, as given by the Dataset objects.\n",
        "    * The next layer in the encoder will be the custom layer you created previously, to add a learned end token embedding to the end of the English sequence.\n",
        "    * This is followed by a Masking layer, with the `mask_value` set to the distinct padding value you used when you padded the English sequences with the Dataset preprocessing above.\n",
        "    * The final layer is an LSTM layer with 512 units, which also returns the hidden and cell states.\n",
        "    * The encoder is a multi-output model. There should be two output Tensors of this model: the hidden state and cell states of the LSTM layer. The output of the LSTM layer is unused.\n",
        "* Using the Dataset `.take(1)` method, extract a batch of English data examples from the training Dataset and test the encoder model by calling it on the English data Tensor, and print the shape of the resulting Tensor outputs.\n",
        "* Print the model summary for the encoder network."
      ]
    },
    {
      "cell_type": "code",
      "execution_count": null,
      "metadata": {
        "id": "Vh6lviWdLGmE"
      },
      "outputs": [],
      "source": [
        "def EncoderModel(input_shape):\n",
        "    \n",
        "    inputs = Input(shape=input_shape)\n",
        "    h = CustomLayer()(inputs)\n",
        "    h = Masking(mask_value=0)(h)\n",
        "    output, hidden_states, cell_states = LSTM(512, return_state=True)(h)\n",
        "    \n",
        "    encoder = Model(inputs=inputs, outputs=[hidden_states, cell_states])\n",
        "    \n",
        "    return encoder"
      ]
    },
    {
      "cell_type": "code",
      "execution_count": null,
      "metadata": {
        "colab": {
          "base_uri": "https://localhost:8080/"
        },
        "id": "pTXiO2n_LGmF",
        "outputId": "75619987-81fb-447f-e605-d3acf0eb4564"
      },
      "outputs": [
        {
          "output_type": "stream",
          "name": "stdout",
          "text": [
            "Model: \"model\"\n",
            "_________________________________________________________________\n",
            " Layer (type)                Output Shape              Param #   \n",
            "=================================================================\n",
            " input_1 (InputLayer)        [(None, 13, 128)]         0         \n",
            "                                                                 \n",
            " custom_layer_1 (CustomLayer  (None, 14, 128)          128       \n",
            " )                                                               \n",
            "                                                                 \n",
            " masking (Masking)           (None, 14, 128)           0         \n",
            "                                                                 \n",
            " lstm (LSTM)                 [(None, 512),             1312768   \n",
            "                              (None, 512),                       \n",
            "                              (None, 512)]                       \n",
            "                                                                 \n",
            "=================================================================\n",
            "Total params: 1,312,896\n",
            "Trainable params: 1,312,896\n",
            "Non-trainable params: 0\n",
            "_________________________________________________________________\n",
            "None\n",
            "Shape of resulting tensor of hidden states: (16, 512)\n",
            "Shape of resulting tensor of cell states: (16, 512)\n"
          ]
        }
      ],
      "source": [
        "en, de = next(iter(train_dataset_mapped.take(1)))\n",
        "\n",
        "encoder = EncoderModel(en.shape[1:])\n",
        "result = encoder(en)\n",
        "\n",
        "print(encoder.summary())\n",
        "print(f'Shape of resulting tensor of hidden states: {result[0].shape}')\n",
        "print(f'Shape of resulting tensor of cell states: {result[1].shape}')"
      ]
    },
    {
      "cell_type": "markdown",
      "metadata": {
        "id": "jL1fXMy4LGmF"
      },
      "source": [
        "## 5. Build the decoder network\n",
        "The decoder network follows the schematic diagram below. \n",
        "\n",
        "![Decoder schematic](data/neural_translation_model_decoder.png)"
      ]
    },
    {
      "cell_type": "markdown",
      "metadata": {
        "id": "Aii-agOMLGmF"
      },
      "source": [
        "You should now build the RNN decoder model.\n",
        "* Using Model subclassing, build the decoder network according to the following spec:\n",
        "    * The initializer should create the following layers:\n",
        "        * An Embedding layer with vocabulary size set to the number of unique German tokens, embedding dimension 128, and set to mask zero values in the input.\n",
        "        * An LSTM layer with 512 units, that returns its hidden and cell states, and also returns sequences.\n",
        "        * A Dense layer with number of units equal to the number of unique German tokens, and no activation function.\n",
        "    * The call method should include the usual `inputs` argument, as well as the additional keyword arguments `hidden_state` and `cell_state`. The default value for these keyword arguments should be `None`.\n",
        "    * The call method should pass the inputs through the Embedding layer, and then through the LSTM layer. If the `hidden_state` and `cell_state` arguments are provided, these should be used for the initial state of the LSTM layer. _Hint: use the_ `initial_state` _keyword argument when calling the LSTM layer on its input._\n",
        "    * The call method should pass the LSTM output sequence through the Dense layer, and return the resulting Tensor, along with the hidden and cell states of the LSTM layer.\n",
        "* Using the Dataset `.take(1)` method, extract a batch of English and German data examples from the training Dataset. Test the decoder model by first calling the encoder model on the English data Tensor to get the hidden and cell states, and then call the decoder model on the German data Tensor and hidden and cell states, and print the shape of the resulting decoder Tensor outputs.\n",
        "* Print the model summary for the decoder network."
      ]
    },
    {
      "cell_type": "code",
      "execution_count": null,
      "metadata": {
        "id": "BpDU6JdILGmF"
      },
      "outputs": [],
      "source": [
        "class DecoderModel(Model):\n",
        "    \n",
        "    def __init__(self, token_size):\n",
        "        super(DecoderModel, self).__init__()\n",
        "        #self.token_size = token_size\n",
        "        self.embedding = Embedding(token_size, 128, mask_zero=0)\n",
        "        self.lstm = LSTM(512, return_state=True, return_sequences=True)\n",
        "        self.dense = Dense(token_size)\n",
        "        \n",
        "    def call(self, inputs, hidden_state=None, cell_state=None):\n",
        "        h = self.embedding(inputs)\n",
        "        if (hidden_state is None) and (cell_state is None):\n",
        "            h = self.lstm(h)\n",
        "        else: \n",
        "            h, hidden_state, cell_state = self.lstm(h, initial_state=(hidden_state, cell_state))\n",
        "        h = self.dense(h)\n",
        "        \n",
        "        return h, hidden_state, cell_state"
      ]
    },
    {
      "cell_type": "code",
      "execution_count": null,
      "metadata": {
        "colab": {
          "base_uri": "https://localhost:8080/"
        },
        "id": "PWYHZUOlLGmF",
        "outputId": "f60e5239-3982-4fe9-a0bd-c9a62db1c24a"
      },
      "outputs": [
        {
          "output_type": "stream",
          "name": "stdout",
          "text": [
            "Model: \"decoder_model\"\n",
            "_________________________________________________________________\n",
            " Layer (type)                Output Shape              Param #   \n",
            "=================================================================\n",
            " embedding (Embedding)       multiple                  735232    \n",
            "                                                                 \n",
            " lstm_2 (LSTM)               multiple                  1312768   \n",
            "                                                                 \n",
            " dense (Dense)               multiple                  2946672   \n",
            "                                                                 \n",
            "=================================================================\n",
            "Total params: 4,994,672\n",
            "Trainable params: 4,994,672\n",
            "Non-trainable params: 0\n",
            "_________________________________________________________________\n",
            "None\n",
            "Shape of outputs: (16, 14, 5744)\n",
            "Shape of resulting tensor of hidden states: (16, 512)\n",
            "Shape of resulting tensor of cell states: (16, 512)\n"
          ]
        }
      ],
      "source": [
        "en, de = next(iter(train_dataset_mapped.take(1)))\n",
        "\n",
        "hidden_states, cell_states = EncoderModel(en[0].shape)(en)\n",
        "\n",
        "decoder = DecoderModel(vocab_size)\n",
        "outputs, hidden_states, cell_states = decoder(de, hidden_states, cell_states)\n",
        "\n",
        "print(decoder.summary())\n",
        "print(f'Shape of outputs: {outputs.shape}')\n",
        "print(f'Shape of resulting tensor of hidden states: {hidden_states.shape}')\n",
        "print(f'Shape of resulting tensor of cell states: {cell_states.shape}')"
      ]
    },
    {
      "cell_type": "markdown",
      "metadata": {
        "id": "1LdFgilLLGmG"
      },
      "source": [
        "## 6. Make a custom training loop\n",
        "You should now write a custom training loop to train your custom neural translation model.\n",
        "* Define a function that takes a Tensor batch of German data (as extracted from the training Dataset), and returns a tuple containing German inputs and outputs for the decoder model (refer to schematic diagram above).\n",
        "* Define a function that computes the forward and backward pass for your translation model. This function should take an English input, German input and German output as arguments, and should do the following:\n",
        "    * Pass the English input into the encoder, to get the hidden and cell states of the encoder LSTM.\n",
        "    * These hidden and cell states are then passed into the decoder, along with the German inputs, which returns a sequence of outputs (the hidden and cell state outputs of the decoder LSTM are unused in this function).\n",
        "    * The loss should then be computed between the decoder outputs and the German output function argument.\n",
        "    * The function returns the loss and gradients with respect to the encoder and decoder’s trainable variables.\n",
        "    * Decorate the function with @tf.function\n",
        "* Define and run a custom training loop for a number of epochs (for you to choose) that does the following:\n",
        "    * Iterates through the training dataset, and creates decoder inputs and outputs from the German sequences.\n",
        "    * Updates the parameters of the translation model using the gradients of the function above and an optimizer object.\n",
        "    * Every epoch, compute the validation loss on a number of batches from the validation and save the epoch training and validation losses.\n",
        "* Plot the learning curves for loss vs epoch for both training and validation sets.\n",
        "\n",
        "_Hint: This model is computationally demanding to train. The quality of the model or length of training is not a factor in the grading rubric. However, to obtain a better model we recommend using the GPU accelerator hardware on Colab._"
      ]
    },
    {
      "cell_type": "code",
      "source": [
        "def get_model(en_input_shape, de_input_shape):\n",
        "\n",
        "    en_input = Input(en_input_shape)\n",
        "    de_input = Input(de_input_shape)\n",
        "\n",
        "    encoder = EncoderModel(en_input_shape)\n",
        "    decoder = DecoderModel(vocab_size)\n",
        "\n",
        "    hidden_states_en, cell_states_en = encoder(en_input)\n",
        "    outputs, hidden_state_de, cell_states_de = decoder(de_input, hidden_states_en, cell_states_en)\n",
        "\n",
        "    model = Model(inputs=[en_input, de_input], outputs=[outputs, hidden_state_de, cell_states_de])\n",
        "\n",
        "    return model\n"
      ],
      "metadata": {
        "id": "Ojvglie7ipd0"
      },
      "execution_count": null,
      "outputs": []
    },
    {
      "cell_type": "code",
      "source": [
        "en, de = next(iter(train_dataset_mapped.take(1)))\n",
        "de_input = de[:,:-1]\n",
        "\n",
        "model = get_model(en.shape[1:], de_input.shape[1:])\n",
        "outputs, hidden_state, cell_state = model([en, de_input])\n",
        "\n",
        "print(model.summary())\n",
        "print(f'Shape of outputs: {outputs.shape}')\n",
        "print(f'Shape of resulting tensor of hidden states: {hidden_state.shape}')\n",
        "print(f'Shape of resulting tensor of cell states: {cell_state.shape}')"
      ],
      "metadata": {
        "colab": {
          "base_uri": "https://localhost:8080/"
        },
        "id": "86MuNxyzkOK3",
        "outputId": "bd3c541c-3384-4919-c5a1-8966fd7a8d5c"
      },
      "execution_count": null,
      "outputs": [
        {
          "output_type": "stream",
          "name": "stdout",
          "text": [
            "Model: \"model_3\"\n",
            "__________________________________________________________________________________________________\n",
            " Layer (type)                   Output Shape         Param #     Connected to                     \n",
            "==================================================================================================\n",
            " input_3 (InputLayer)           [(None, 13, 128)]    0           []                               \n",
            "                                                                                                  \n",
            " input_4 (InputLayer)           [(None, 13)]         0           []                               \n",
            "                                                                                                  \n",
            " model_2 (Functional)           [(None, 512),        1312896     ['input_3[0][0]']                \n",
            "                                 (None, 512)]                                                     \n",
            "                                                                                                  \n",
            " decoder_model_1 (DecoderModel)  ((None, 13, 5744),  4994672     ['input_4[0][0]',                \n",
            "                                 (None, 512),                     'model_2[0][0]',                \n",
            "                                 (None, 512))                     'model_2[0][1]']                \n",
            "                                                                                                  \n",
            "==================================================================================================\n",
            "Total params: 6,307,568\n",
            "Trainable params: 6,307,568\n",
            "Non-trainable params: 0\n",
            "__________________________________________________________________________________________________\n",
            "None\n",
            "Shape of outputs: (16, 13, 5744)\n",
            "Shape of resulting tensor of hidden states: (16, 512)\n",
            "Shape of resulting tensor of cell states: (16, 512)\n"
          ]
        }
      ]
    },
    {
      "cell_type": "code",
      "execution_count": null,
      "metadata": {
        "id": "Iv2SRyqWLGmH"
      },
      "outputs": [],
      "source": [
        "optimizer = tf.keras.optimizers.Adam()\n",
        "loss = tf.keras.losses.SparseCategoricalCrossentropy(from_logits=True)"
      ]
    },
    {
      "cell_type": "code",
      "execution_count": null,
      "metadata": {
        "id": "ARnldcgqLGmH"
      },
      "outputs": [],
      "source": [
        "def decoder_data(batch_data):\n",
        "    return batch_data[:, :-1], batch_data[:, 1:]"
      ]
    },
    {
      "cell_type": "code",
      "execution_count": null,
      "metadata": {
        "id": "Q_kXNsgHLGmH"
      },
      "outputs": [],
      "source": [
        "#tf.config.experimental_run_functions_eagerly(True)\n",
        "@tf.function\n",
        "def grad(en, de_inputs, de_outputs):\n",
        "    \n",
        "    with tf.GradientTape() as tape:\n",
        "        outputs, hidden_states, cell_states = model([en, de_inputs])\n",
        "        loss_value = loss(de_outputs, outputs)\n",
        "        \n",
        "    return outputs, loss_value, tape.gradient(loss_value, model.trainable_variables)\n",
        "    "
      ]
    },
    {
      "cell_type": "code",
      "execution_count": null,
      "metadata": {
        "id": "7hrCnjqJLGmH"
      },
      "outputs": [],
      "source": [
        "def training_(num_epochs, train_dataset, valid_dataset, optimizer, loss, grad):\n",
        "\n",
        "    train_loss_results = []\n",
        "    valid_loss_results = []\n",
        "    iters = 0\n",
        "\n",
        "    #model = get_model(en.shape[1:], de_inputs.shape[1:])\n",
        "    \n",
        "    for epoch in range(num_epochs):\n",
        "\n",
        "        train_mean_loss = tf.keras.metrics.Mean()\n",
        "        valid_mean_loss = tf.keras.metrics.Mean()\n",
        "        batch_loss = []\n",
        "        iters = 0\n",
        "      \n",
        "        for en, de in train_dataset:\n",
        "\n",
        "            de_inputs, de_outputs = decoder_data(de)\n",
        "            outputs, loss_value, grads = grad(en, de_inputs, de_outputs)\n",
        "            optimizer.apply_gradients(zip(grads, model.trainable_variables))\n",
        "            train_mean_loss(loss_value)\n",
        "            batch_loss.append(loss_value.numpy())\n",
        "\n",
        "            iters += 1\n",
        "            if (iters % 200 == 0):\n",
        "                print(\"Iteration {}: Loss {:.3f}\".format(iters, np.mean(batch_loss)))\n",
        "\n",
        "        for en, de in valid_dataset:\n",
        "            \n",
        "            de_inputs, de_outputs = decoder_data(de)\n",
        "            outputs, hidden_state_de, cell_states_de = model([en, de_inputs])\n",
        "            loss_value = loss(de_outputs, outputs)\n",
        "            valid_mean_loss(loss_value)\n",
        "\n",
        "        train_loss_results.append(train_mean_loss.result())\n",
        "        valid_loss_results.append(valid_mean_loss.result())    \n",
        "        print(\"Epoch {}: Loss {:.3f}, Valid loss:{:.3f}\".format(epoch+1, train_mean_loss.result(), valid_mean_loss.result()))\n",
        "        \n",
        "    return train_loss_results, valid_loss_results"
      ]
    },
    {
      "cell_type": "code",
      "execution_count": null,
      "metadata": {
        "colab": {
          "base_uri": "https://localhost:8080/"
        },
        "id": "d1eT-CywLGmI",
        "outputId": "ac88397b-a188-4979-ffb4-2973e46f6d61"
      },
      "outputs": [
        {
          "output_type": "stream",
          "name": "stdout",
          "text": [
            "Iteration 200: Loss 2.343\n",
            "Iteration 400: Loss 2.019\n",
            "Iteration 600: Loss 1.853\n",
            "Iteration 800: Loss 1.746\n",
            "Iteration 1000: Loss 1.671\n",
            "Epoch 1: Loss 1.671, Valid loss:1.320\n",
            "Iteration 200: Loss 1.263\n",
            "Iteration 400: Loss 1.238\n",
            "Iteration 600: Loss 1.209\n",
            "Iteration 800: Loss 1.185\n",
            "Iteration 1000: Loss 1.163\n",
            "Epoch 2: Loss 1.163, Valid loss:1.141\n",
            "Iteration 200: Loss 1.011\n",
            "Iteration 400: Loss 0.989\n",
            "Iteration 600: Loss 0.966\n",
            "Iteration 800: Loss 0.945\n",
            "Iteration 1000: Loss 0.927\n",
            "Epoch 3: Loss 0.927, Valid loss:1.047\n",
            "Iteration 200: Loss 0.810\n",
            "Iteration 400: Loss 0.790\n",
            "Iteration 600: Loss 0.772\n",
            "Iteration 800: Loss 0.755\n",
            "Iteration 1000: Loss 0.740\n",
            "Epoch 4: Loss 0.740, Valid loss:1.003\n",
            "Iteration 200: Loss 0.648\n",
            "Iteration 400: Loss 0.631\n",
            "Iteration 600: Loss 0.616\n",
            "Iteration 800: Loss 0.601\n",
            "Iteration 1000: Loss 0.590\n",
            "Epoch 5: Loss 0.590, Valid loss:0.988\n",
            "Iteration 200: Loss 0.517\n",
            "Iteration 400: Loss 0.502\n",
            "Iteration 600: Loss 0.490\n",
            "Iteration 800: Loss 0.479\n",
            "Iteration 1000: Loss 0.471\n",
            "Epoch 6: Loss 0.471, Valid loss:0.987\n",
            "Iteration 200: Loss 0.416\n",
            "Iteration 400: Loss 0.403\n",
            "Iteration 600: Loss 0.393\n",
            "Iteration 800: Loss 0.385\n",
            "Iteration 1000: Loss 0.379\n",
            "Epoch 7: Loss 0.379, Valid loss:0.988\n",
            "Iteration 200: Loss 0.334\n",
            "Iteration 400: Loss 0.323\n",
            "Iteration 600: Loss 0.317\n",
            "Iteration 800: Loss 0.311\n",
            "Iteration 1000: Loss 0.307\n",
            "Epoch 8: Loss 0.307, Valid loss:0.993\n",
            "Iteration 200: Loss 0.270\n",
            "Iteration 400: Loss 0.260\n",
            "Iteration 600: Loss 0.257\n",
            "Iteration 800: Loss 0.253\n",
            "Iteration 1000: Loss 0.249\n",
            "Epoch 9: Loss 0.249, Valid loss:0.999\n",
            "Iteration 200: Loss 0.220\n",
            "Iteration 400: Loss 0.212\n",
            "Iteration 600: Loss 0.210\n",
            "Iteration 800: Loss 0.206\n",
            "Iteration 1000: Loss 0.203\n",
            "Epoch 10: Loss 0.203, Valid loss:1.013\n",
            "Iteration 200: Loss 0.180\n",
            "Iteration 400: Loss 0.175\n",
            "Iteration 600: Loss 0.174\n",
            "Iteration 800: Loss 0.171\n",
            "Iteration 1000: Loss 0.168\n",
            "Epoch 11: Loss 0.168, Valid loss:1.031\n",
            "Iteration 200: Loss 0.148\n",
            "Iteration 400: Loss 0.145\n",
            "Iteration 600: Loss 0.145\n",
            "Iteration 800: Loss 0.143\n",
            "Iteration 1000: Loss 0.142\n",
            "Epoch 12: Loss 0.142, Valid loss:1.046\n"
          ]
        }
      ],
      "source": [
        "train_loss_results, valid_loss_results = training_(12, \n",
        "                                                   train_dataset_mapped, \n",
        "                                                   valid_dataset_mapped, \n",
        "                                                   optimizer, \n",
        "                                                   loss, \n",
        "                                                   grad)"
      ]
    },
    {
      "cell_type": "code",
      "execution_count": null,
      "metadata": {
        "colab": {
          "base_uri": "https://localhost:8080/",
          "height": 354
        },
        "id": "k2LE9uy7LGmI",
        "outputId": "202e3657-f6f8-46b7-c475-62f99b47c29b"
      },
      "outputs": [
        {
          "output_type": "display_data",
          "data": {
            "text/plain": [
              "<Figure size 864x360 with 2 Axes>"
            ],
            "image/png": "[encoded data removed]"
          },
          "metadata": {
            "needs_background": "light"
          }
        }
      ],
      "source": [
        "fig, axes = plt.subplots(1, 2, sharex=True, figsize=(12, 5))\n",
        "\n",
        "axes[0].set_xlabel(\"Epochs\", fontsize=14)\n",
        "axes[0].set_ylabel(\"Loss\", fontsize=14)\n",
        "axes[0].set_title('Loss vs epochs')\n",
        "axes[0].plot(train_loss_results)\n",
        "\n",
        "axes[1].set_title('Valid loss vs epochs')\n",
        "axes[1].set_ylabel(\"Loss\", fontsize=14)\n",
        "axes[1].set_xlabel(\"Epochs\", fontsize=14)\n",
        "axes[1].plot(valid_loss_results)\n",
        "plt.show()"
      ]
    },
    {
      "cell_type": "code",
      "source": [
        "model.save('my_model')"
      ],
      "metadata": {
        "colab": {
          "base_uri": "https://localhost:8080/"
        },
        "id": "b1xEbdzTB79n",
        "outputId": "92f3fec5-974f-410e-cc38-769047ee9129"
      },
      "execution_count": null,
      "outputs": [
        {
          "output_type": "stream",
          "name": "stderr",
          "text": [
            "WARNING:tensorflow:Compiled the loaded model, but the compiled metrics have yet to be built. `model.compile_metrics` will be empty until you train or evaluate the model.\n",
            "WARNING:absl:Found untraced functions such as lstm_cell_3_layer_call_fn, lstm_cell_3_layer_call_and_return_conditional_losses, lstm_cell_4_layer_call_fn, lstm_cell_4_layer_call_and_return_conditional_losses while saving (showing 4 of 4). These functions will not be directly callable after loading.\n"
          ]
        }
      ]
    },
    {
      "cell_type": "markdown",
      "metadata": {
        "id": "ZmZPwvipLGmJ"
      },
      "source": [
        "## 7. Use the model to translate\n",
        "Now it's time to put your model into practice! You should run your translation for five randomly sampled English sentences from the dataset. For each sentence, the process is as follows:\n",
        "* Preprocess and embed the English sentence according to the model requirements.\n",
        "* Pass the embedded sentence through the encoder to get the encoder hidden and cell states.\n",
        "* Starting with the special  `\"<start>\"` token, use this token and the final encoder hidden and cell states to get the one-step prediction from the decoder, as well as the decoder’s updated hidden and cell states.\n",
        "* Create a loop to get the next step prediction and updated hidden and cell states from the decoder, using the most recent hidden and cell states. Terminate the loop when the `\"<end>\"` token is emitted, or when the sentence has reached a maximum length.\n",
        "* Decode the output token sequence into German text and print the English text and the model's German translation."
      ]
    },
    {
      "cell_type": "code",
      "execution_count": null,
      "metadata": {
        "id": "3U0epVYQLGmJ"
      },
      "outputs": [],
      "source": [
        "random_indices = np.random.choice(len(english), size=5, replace=False)\n",
        "\n",
        "test_english, test_german = [], []\n",
        "for idx in random_indices:\n",
        "    test_english.append(english[idx])\n",
        "    test_german.append(padded_german_sequences[idx])\n",
        "    \n",
        "test_dataset = tf.data.Dataset.from_tensor_slices((test_english, test_german))\n",
        "test_dataset_mapped = map_dataset(test_dataset, 5)\n",
        "en_batch, de_batch = next(iter(train_dataset_mapped.take(1)))"
      ]
    },
    {
      "cell_type": "code",
      "execution_count": null,
      "metadata": {
        "colab": {
          "base_uri": "https://localhost:8080/"
        },
        "id": "XD_5v9R3LGmJ",
        "outputId": "344b0ccb-fd95-4507-e9db-71a3fca4b9d7"
      },
      "outputs": [
        {
          "output_type": "stream",
          "name": "stdout",
          "text": [
            "English sentence: he tricked me .\n",
            "German sentence translated: schlaeft er ?\n",
            "German sentence target: <start> er hat mich hereingelegt . <end>\n",
            "\n",
            "English sentence: how kind of you !\n",
            "German sentence translated: ihr muesst ihr muesst musst du musst gehen sie muessen kommen sie ihr muesst\n",
            "German sentence target: <start> wie freundlich von ihnen . <end>\n",
            "\n",
            "English sentence: i was very scared .\n",
            "German sentence translated: hey , wo , wo , wo , wo , wo , wo ,\n",
            "German sentence target: <start> ich hatte grosse angst . <end>\n",
            "\n",
            "English sentence: he likes singing .\n",
            "German sentence translated: hast du hast du hast du hast du hast du hast du hast du\n",
            "German sentence target: <start> er singt gerne . <end>\n",
            "\n",
            "English sentence: tom looked awake .\n",
            "German sentence translated: ich weiss das weiss ich weiss diesen weiss ich weiss diesen weiss ich weiss\n",
            "German sentence target: <start> tom sah wach aus . <end>\n",
            "\n"
          ]
        }
      ],
      "source": [
        "encoder = model.layers[-2]\n",
        "decoder = model.layers[-1]\n",
        "\n",
        "for en, de, idx in zip(en_batch, de_batch, random_indices):\n",
        "\n",
        "    de_sent = []\n",
        "    en = tf.expand_dims(en, 0)\n",
        "    de_inputs = tf.expand_dims(tf.expand_dims(de[0], 0),1)\n",
        "\n",
        "    hidden_states, cell_states = encoder(en)\n",
        "\n",
        "    while len(de_sent) < 14:\n",
        "        outputs, hidden_states, cell_statess = decoder(de_inputs, hidden_states, cell_states)\n",
        "        decoder_outputs = tf.squeeze(tf.argmax(outputs, axis=2)).numpy()\n",
        "        \n",
        "        if decoder_outputs == german_tokenizer.word_index['<end>']:\n",
        "            break\n",
        "        de_sent.append(german_tokenizer.index_word[decoder_outputs])\n",
        "        de_inputs = tf.Variable([[decoder_outputs]])\n",
        "\n",
        "    print(f\"English sentence: {english[idx]}\")\n",
        "    print(f\"German sentence translated: {' '.join(de_sent)}\")\n",
        "    print(f\"German sentence target: {german[idx]}\\n\")"
      ]
    },
    {
      "cell_type": "code",
      "source": [],
      "metadata": {
        "id": "90l7QRNkSsd4"
      },
      "execution_count": null,
      "outputs": []
    }
  ],
  "metadata": {
    "kernelspec": {
      "display_name": "Python 3",
      "language": "python",
      "name": "python3"
    },
    "language_info": {
      "codemirror_mode": {
        "name": "ipython",
        "version": 3
      },
      "file_extension": ".py",
      "mimetype": "text/x-python",
      "name": "python",
      "nbconvert_exporter": "python",
      "pygments_lexer": "ipython3",
      "version": "3.7.1"
    },
    "colab": {
      "provenance": []
    },
    "accelerator": "GPU",
    "gpuClass": "standard"
  },
  "nbformat": 4,
  "nbformat_minor": 0
}